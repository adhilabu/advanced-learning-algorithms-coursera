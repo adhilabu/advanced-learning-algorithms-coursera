{
  "cells": [
    {
      "cell_type": "markdown",
      "metadata": {
        "id": "view-in-github",
        "colab_type": "text"
      },
      "source": [
        "<a href=\"https://colab.research.google.com/github/adhilabu/advanced-learning-algorithms-coursera/blob/main/C2_W1_Lab01_Neurons_and_Layers.ipynb\" target=\"_parent\"><img src=\"https://colab.research.google.com/assets/colab-badge.svg\" alt=\"Open In Colab\"/></a>"
      ]
    },
    {
      "cell_type": "markdown",
      "metadata": {
        "tags": [],
        "id": "YhRd98qIzuxd"
      },
      "source": [
        "# Optional Lab - Neurons and Layers\n",
        "In this lab we will explore the inner workings of neurons/units and layers. In particular, the lab will draw parallels to the models you have mastered in Course 1, the regression/linear model and the logistic model. The lab will introduce Tensorflow and demonstrate how these models are implemented in that framework.\n",
        "<figure>\n",
        "   <img src=\"https://github.com/greyhatguy007/Machine-Learning-Specialization-Coursera/blob/main/C2%20-%20Advanced%20Learning%20Algorithms/week1/optional-labs/images/C2_W1_NeuronsAndLayers.png?raw=1\"  style=\"width:540px;height:200px;\" >\n",
        "</figure>\n"
      ]
    },
    {
      "cell_type": "code",
      "source": [
        "!pip install tensorflow"
      ],
      "metadata": {
        "id": "Nl9HDYSs0jgY",
        "outputId": "42683588-a491-4147-af86-2a8ba3811ac9",
        "colab": {
          "base_uri": "https://localhost:8080/"
        }
      },
      "execution_count": null,
      "outputs": [
        {
          "output_type": "stream",
          "name": "stdout",
          "text": [
            "Requirement already satisfied: tensorflow in /usr/local/lib/python3.12/dist-packages (2.19.0)\n",
            "Requirement already satisfied: absl-py>=1.0.0 in /usr/local/lib/python3.12/dist-packages (from tensorflow) (1.4.0)\n",
            "Requirement already satisfied: astunparse>=1.6.0 in /usr/local/lib/python3.12/dist-packages (from tensorflow) (1.6.3)\n",
            "Requirement already satisfied: flatbuffers>=24.3.25 in /usr/local/lib/python3.12/dist-packages (from tensorflow) (25.2.10)\n",
            "Requirement already satisfied: gast!=0.5.0,!=0.5.1,!=0.5.2,>=0.2.1 in /usr/local/lib/python3.12/dist-packages (from tensorflow) (0.6.0)\n",
            "Requirement already satisfied: google-pasta>=0.1.1 in /usr/local/lib/python3.12/dist-packages (from tensorflow) (0.2.0)\n",
            "Requirement already satisfied: libclang>=13.0.0 in /usr/local/lib/python3.12/dist-packages (from tensorflow) (18.1.1)\n",
            "Requirement already satisfied: opt-einsum>=2.3.2 in /usr/local/lib/python3.12/dist-packages (from tensorflow) (3.4.0)\n",
            "Requirement already satisfied: packaging in /usr/local/lib/python3.12/dist-packages (from tensorflow) (25.0)\n",
            "Requirement already satisfied: protobuf!=4.21.0,!=4.21.1,!=4.21.2,!=4.21.3,!=4.21.4,!=4.21.5,<6.0.0dev,>=3.20.3 in /usr/local/lib/python3.12/dist-packages (from tensorflow) (5.29.5)\n",
            "Requirement already satisfied: requests<3,>=2.21.0 in /usr/local/lib/python3.12/dist-packages (from tensorflow) (2.32.4)\n",
            "Requirement already satisfied: setuptools in /usr/local/lib/python3.12/dist-packages (from tensorflow) (75.2.0)\n",
            "Requirement already satisfied: six>=1.12.0 in /usr/local/lib/python3.12/dist-packages (from tensorflow) (1.17.0)\n",
            "Requirement already satisfied: termcolor>=1.1.0 in /usr/local/lib/python3.12/dist-packages (from tensorflow) (3.1.0)\n",
            "Requirement already satisfied: typing-extensions>=3.6.6 in /usr/local/lib/python3.12/dist-packages (from tensorflow) (4.15.0)\n",
            "Requirement already satisfied: wrapt>=1.11.0 in /usr/local/lib/python3.12/dist-packages (from tensorflow) (1.17.3)\n",
            "Requirement already satisfied: grpcio<2.0,>=1.24.3 in /usr/local/lib/python3.12/dist-packages (from tensorflow) (1.74.0)\n",
            "Requirement already satisfied: tensorboard~=2.19.0 in /usr/local/lib/python3.12/dist-packages (from tensorflow) (2.19.0)\n",
            "Requirement already satisfied: keras>=3.5.0 in /usr/local/lib/python3.12/dist-packages (from tensorflow) (3.10.0)\n",
            "Requirement already satisfied: numpy<2.2.0,>=1.26.0 in /usr/local/lib/python3.12/dist-packages (from tensorflow) (2.0.2)\n",
            "Requirement already satisfied: h5py>=3.11.0 in /usr/local/lib/python3.12/dist-packages (from tensorflow) (3.14.0)\n",
            "Requirement already satisfied: ml-dtypes<1.0.0,>=0.5.1 in /usr/local/lib/python3.12/dist-packages (from tensorflow) (0.5.3)\n",
            "Requirement already satisfied: wheel<1.0,>=0.23.0 in /usr/local/lib/python3.12/dist-packages (from astunparse>=1.6.0->tensorflow) (0.45.1)\n",
            "Requirement already satisfied: rich in /usr/local/lib/python3.12/dist-packages (from keras>=3.5.0->tensorflow) (13.9.4)\n",
            "Requirement already satisfied: namex in /usr/local/lib/python3.12/dist-packages (from keras>=3.5.0->tensorflow) (0.1.0)\n",
            "Requirement already satisfied: optree in /usr/local/lib/python3.12/dist-packages (from keras>=3.5.0->tensorflow) (0.17.0)\n",
            "Requirement already satisfied: charset_normalizer<4,>=2 in /usr/local/lib/python3.12/dist-packages (from requests<3,>=2.21.0->tensorflow) (3.4.3)\n",
            "Requirement already satisfied: idna<4,>=2.5 in /usr/local/lib/python3.12/dist-packages (from requests<3,>=2.21.0->tensorflow) (3.10)\n",
            "Requirement already satisfied: urllib3<3,>=1.21.1 in /usr/local/lib/python3.12/dist-packages (from requests<3,>=2.21.0->tensorflow) (2.5.0)\n",
            "Requirement already satisfied: certifi>=2017.4.17 in /usr/local/lib/python3.12/dist-packages (from requests<3,>=2.21.0->tensorflow) (2025.8.3)\n",
            "Requirement already satisfied: markdown>=2.6.8 in /usr/local/lib/python3.12/dist-packages (from tensorboard~=2.19.0->tensorflow) (3.8.2)\n",
            "Requirement already satisfied: tensorboard-data-server<0.8.0,>=0.7.0 in /usr/local/lib/python3.12/dist-packages (from tensorboard~=2.19.0->tensorflow) (0.7.2)\n",
            "Requirement already satisfied: werkzeug>=1.0.1 in /usr/local/lib/python3.12/dist-packages (from tensorboard~=2.19.0->tensorflow) (3.1.3)\n",
            "Requirement already satisfied: MarkupSafe>=2.1.1 in /usr/local/lib/python3.12/dist-packages (from werkzeug>=1.0.1->tensorboard~=2.19.0->tensorflow) (3.0.2)\n",
            "Requirement already satisfied: markdown-it-py>=2.2.0 in /usr/local/lib/python3.12/dist-packages (from rich->keras>=3.5.0->tensorflow) (4.0.0)\n",
            "Requirement already satisfied: pygments<3.0.0,>=2.13.0 in /usr/local/lib/python3.12/dist-packages (from rich->keras>=3.5.0->tensorflow) (2.19.2)\n",
            "Requirement already satisfied: mdurl~=0.1 in /usr/local/lib/python3.12/dist-packages (from markdown-it-py>=2.2.0->rich->keras>=3.5.0->tensorflow) (0.1.2)\n"
          ]
        }
      ]
    },
    {
      "cell_type": "markdown",
      "metadata": {
        "id": "j1quDPk8zuxg"
      },
      "source": [
        "## Packages\n",
        "**Tensorflow and Keras**  \n",
        "Tensorflow is a machine learning package developed by Google. In 2019, Google integrated Keras into Tensorflow and released Tensorflow 2.0. Keras is a framework developed independently by François Chollet that creates a simple, layer-centric interface to Tensorflow. This course will be using the Keras interface."
      ]
    },
    {
      "cell_type": "code",
      "source": [
        "# --- Minimal replacements for missing course utilities ---\n",
        "import numpy as np\n",
        "import matplotlib.pyplot as plt\n",
        "\n",
        "class dlc:\n",
        "    # simple color map used in course examples\n",
        "    colors = {\n",
        "        'blue': 'C0',\n",
        "        'green': 'C1',\n",
        "        'red': 'C3',\n",
        "        'purple': 'C4',\n",
        "        'orange': 'C2'\n",
        "    }\n",
        "\n",
        "def sigmoidnp(x):\n",
        "    x = np.array(x, dtype=float)\n",
        "    return 1.0 / (1.0 + np.exp(-x))\n",
        "\n",
        "def plt_prob_1d(x, probs, label=None):\n",
        "    \"\"\"\n",
        "    x: 1D array of inputs\n",
        "    probs: 1D array of P(y=1) values\n",
        "    \"\"\"\n",
        "    plt.figure()\n",
        "    plt.plot(x, probs, linewidth=2, label=label)\n",
        "    plt.fill_between(x, probs, alpha=0.15)\n",
        "    plt.ylim(-0.05, 1.05)\n",
        "    plt.xlabel('x')\n",
        "    plt.ylabel('P(y=1)')\n",
        "    if label is not None:\n",
        "        plt.legend()\n",
        "    plt.grid(True)\n",
        "    plt.show()\n",
        "\n",
        "def plt_linear(w, b, xmin=-6, xmax=6):\n",
        "    \"\"\"\n",
        "    Plot a 1-D linear function y = w*x + b\n",
        "    w can be scalar or 1-element array\n",
        "    \"\"\"\n",
        "    x = np.linspace(xmin, xmax, 200)\n",
        "    w_val = float(np.ravel(w)[0]) if np.size(w) >= 1 else float(w)\n",
        "    y = w_val * x + float(b)\n",
        "    plt.figure()\n",
        "    plt.plot(x, y, label=f'linear w={w_val:.3g}, b={float(b):.3g}')\n",
        "    plt.xlabel('x')\n",
        "    plt.ylabel('y')\n",
        "    plt.legend()\n",
        "    plt.grid(True)\n",
        "    plt.show()\n",
        "\n",
        "def plt_logistic(w, b, xmin=-6, xmax=6):\n",
        "    \"\"\"\n",
        "    Plot logistic sigmoid of a 1-D linear function: sigmoid(w*x + b)\n",
        "    \"\"\"\n",
        "    x = np.linspace(xmin, xmax, 200)\n",
        "    w_val = float(np.ravel(w)[0]) if np.size(w) >= 1 else float(w)\n",
        "    y = sigmoidnp(w_val * x + float(b))\n",
        "    plt.figure()\n",
        "    plt.plot(x, y, label=f'logistic w={w_val:.3g}, b={float(b):.3g}')\n",
        "    plt.ylim(-0.05, 1.05)\n",
        "    plt.xlabel('x')\n",
        "    plt.ylabel('P(y=1)')\n",
        "    plt.legend()\n",
        "    plt.grid(True)\n",
        "    plt.show()\n",
        "# --- end replacements ---\n"
      ],
      "metadata": {
        "id": "sxuBAZxk1Fjh"
      },
      "execution_count": null,
      "outputs": []
    },
    {
      "cell_type": "code",
      "execution_count": null,
      "metadata": {
        "id": "-YZdGI2Tzuxg"
      },
      "outputs": [],
      "source": [
        "import numpy as np\n",
        "import matplotlib.pyplot as plt\n",
        "import tensorflow as tf\n",
        "from tensorflow.keras.layers import Dense, Input\n",
        "from tensorflow.keras import Sequential\n",
        "from tensorflow.keras.losses import MeanSquaredError, BinaryCrossentropy\n",
        "from tensorflow.keras.activations import sigmoid\n",
        "# from lab_utils_common import dlc\n",
        "# from lab_neurons_utils import plt_prob_1d, sigmoidnp, plt_linear, plt_logistic\n",
        "plt.style.use('./deeplearning.mplstyle')\n",
        "import logging\n",
        "logging.getLogger(\"tensorflow\").setLevel(logging.ERROR)\n",
        "tf.autograph.set_verbosity(0)"
      ]
    },
    {
      "cell_type": "markdown",
      "metadata": {
        "id": "RsdzeE0Yzuxh"
      },
      "source": [
        "## Neuron without activation - Regression/Linear Model"
      ]
    },
    {
      "cell_type": "markdown",
      "metadata": {
        "tags": [],
        "id": "YrAb0rhlzuxi"
      },
      "source": [
        "### DataSet\n",
        "We'll use an example from Course 1, linear regression on house prices."
      ]
    },
    {
      "cell_type": "code",
      "execution_count": null,
      "metadata": {
        "tags": [],
        "id": "T8rahGwXzuxi",
        "outputId": "19e021ff-0e4a-4b9b-c3ea-a78e4a25d386",
        "colab": {
          "base_uri": "https://localhost:8080/",
          "height": 446
        }
      },
      "outputs": [
        {
          "output_type": "display_data",
          "data": {
            "text/plain": [
              "<Figure size 640x480 with 1 Axes>"
            ],
            "image/png": "[encoded data removed]"
          },
          "metadata": {}
        }
      ],
      "source": [
        "X_train = np.array([[1.0], [2.0]], dtype=np.float32)           #(size in 1000 square feet)\n",
        "Y_train = np.array([[300.0], [500.0]], dtype=np.float32)       #(price in 1000s of dollars)\n",
        "\n",
        "fig, ax = plt.subplots(1,1)\n",
        "ax.scatter(X_train, Y_train, marker='x', c='r', label=\"Data Points\")\n",
        "ax.legend( fontsize='xx-large')\n",
        "ax.set_ylabel('Price (in 1000s of dollars)', fontsize='xx-large')\n",
        "ax.set_xlabel('Size (1000 sqft)', fontsize='xx-large')\n",
        "plt.show()"
      ]
    },
    {
      "cell_type": "markdown",
      "metadata": {
        "id": "1Og2adfNzuxi"
      },
      "source": [
        "### Regression/Linear Model\n",
        "The function implemented by a neuron with no activation is the same as in Course 1, linear regression:\n",
        "$$ f_{\\mathbf{w},b}(x^{(i)}) = \\mathbf{w}\\cdot x^{(i)} + b \\tag{1}$$\n",
        "\n"
      ]
    },
    {
      "cell_type": "markdown",
      "metadata": {
        "id": "uC98V0jYzuxj"
      },
      "source": [
        "We can define a layer with one neuron or unit and compare it to the familiar linear regression function."
      ]
    },
    {
      "cell_type": "code",
      "execution_count": null,
      "metadata": {
        "id": "5io_SQlGzuxj"
      },
      "outputs": [],
      "source": [
        "linear_layer = tf.keras.layers.Dense(units=1, activation = 'linear', )"
      ]
    },
    {
      "cell_type": "markdown",
      "metadata": {
        "id": "ieI5UsH5zuxj"
      },
      "source": [
        "Let's examine the weights."
      ]
    },
    {
      "cell_type": "code",
      "execution_count": null,
      "metadata": {
        "id": "gVGEZM4Kzuxj",
        "outputId": "21c31e3d-e764-4f52-bffc-1c81dabe236b",
        "colab": {
          "base_uri": "https://localhost:8080/"
        }
      },
      "outputs": [
        {
          "output_type": "execute_result",
          "data": {
            "text/plain": [
              "[]"
            ]
          },
          "metadata": {},
          "execution_count": 70
        }
      ],
      "source": [
        "linear_layer.get_weights()"
      ]
    },
    {
      "cell_type": "markdown",
      "metadata": {
        "id": "tiS8cBQRzuxj"
      },
      "source": [
        "There are no weights as the weights are not yet instantiated. Let's try the model on one example in `X_train`. This will trigger the instantiation of the weights. Note, the input to the layer must be 2-D, so we'll reshape it."
      ]
    },
    {
      "cell_type": "code",
      "source": [
        "X_train[0].reshape(1,1)"
      ],
      "metadata": {
        "id": "E2CEveKh5P3b",
        "outputId": "ab141086-5075-4782-c1eb-b40b7e0ddd5e",
        "colab": {
          "base_uri": "https://localhost:8080/"
        }
      },
      "execution_count": null,
      "outputs": [
        {
          "output_type": "execute_result",
          "data": {
            "text/plain": [
              "array([[1.]], dtype=float32)"
            ]
          },
          "metadata": {},
          "execution_count": 71
        }
      ]
    },
    {
      "cell_type": "code",
      "execution_count": null,
      "metadata": {
        "id": "qjVfg03rzuxj",
        "outputId": "1d4567f0-946a-4fb2-dd25-e82dd78f9b3b",
        "colab": {
          "base_uri": "https://localhost:8080/"
        }
      },
      "outputs": [
        {
          "output_type": "stream",
          "name": "stdout",
          "text": [
            "tf.Tensor([[0.60545003]], shape=(1, 1), dtype=float32)\n"
          ]
        }
      ],
      "source": [
        "a1 = linear_layer(X_train[0].reshape(1,1))\n",
        "print(a1)"
      ]
    },
    {
      "cell_type": "markdown",
      "metadata": {
        "id": "StwhUKjLzuxj"
      },
      "source": [
        "The result is a tensor (another name for an array) with a shape of (1,1) or one entry.   \n",
        "Now let's look at the weights and bias. These weights are randomly initialized to small numbers and the bias defaults to being initialized to zero."
      ]
    },
    {
      "cell_type": "code",
      "execution_count": null,
      "metadata": {
        "id": "HzLAfTpFzuxk",
        "outputId": "9460d4ba-4212-4602-81d9-ee6ce8d8a128",
        "colab": {
          "base_uri": "https://localhost:8080/"
        }
      },
      "outputs": [
        {
          "output_type": "stream",
          "name": "stdout",
          "text": [
            "w = [[0.60545003]], b=[0.]\n"
          ]
        }
      ],
      "source": [
        "w, b= linear_layer.get_weights()\n",
        "print(f\"w = {w}, b={b}\")"
      ]
    },
    {
      "cell_type": "markdown",
      "metadata": {
        "id": "fYFlAcFEzuxk"
      },
      "source": [
        "A linear regression model (1) with a single input feature will have a single weight and bias. This matches the dimensions of our `linear_layer` above.   \n",
        "\n",
        "The weights are initialized to random values so let's set them to some known values."
      ]
    },
    {
      "cell_type": "code",
      "execution_count": null,
      "metadata": {
        "id": "GWkBQ-5Yzuxk",
        "outputId": "f6910319-ea3e-42f7-cca0-a68706e8ba08",
        "colab": {
          "base_uri": "https://localhost:8080/"
        }
      },
      "outputs": [
        {
          "output_type": "stream",
          "name": "stdout",
          "text": [
            "[array([[200.]], dtype=float32), array([100.], dtype=float32)]\n"
          ]
        }
      ],
      "source": [
        "set_w = np.array([[200]])\n",
        "set_b = np.array([100])\n",
        "\n",
        "# set_weights takes a list of numpy arrays\n",
        "linear_layer.set_weights([set_w, set_b])\n",
        "print(linear_layer.get_weights())"
      ]
    },
    {
      "cell_type": "markdown",
      "metadata": {
        "id": "YCBmlG9qzuxk"
      },
      "source": [
        "Let's compare equation (1) to the layer output."
      ]
    },
    {
      "cell_type": "code",
      "execution_count": null,
      "metadata": {
        "id": "z5KC5bK3zuxk",
        "outputId": "e9ad3f8c-9604-4d69-b8a1-9cc72a25a237",
        "colab": {
          "base_uri": "https://localhost:8080/"
        }
      },
      "outputs": [
        {
          "output_type": "stream",
          "name": "stdout",
          "text": [
            "tf.Tensor([[300.]], shape=(1, 1), dtype=float32)\n",
            "[[300.]]\n"
          ]
        }
      ],
      "source": [
        "a1 = linear_layer(X_train[0].reshape(1,1))\n",
        "print(a1)\n",
        "alin = np.dot(set_w,X_train[0].reshape(1,1)) + set_b\n",
        "print(alin)"
      ]
    },
    {
      "cell_type": "markdown",
      "metadata": {
        "id": "au9VncKYzuxk"
      },
      "source": [
        "They produce the same values!\n",
        "Now, we can use our linear layer to make predictions on our training data."
      ]
    },
    {
      "cell_type": "code",
      "execution_count": null,
      "metadata": {
        "id": "hjI-_wXTzuxk"
      },
      "outputs": [],
      "source": [
        "prediction_tf = linear_layer(X_train)\n",
        "prediction_np = np.dot( X_train, set_w) + set_b"
      ]
    },
    {
      "cell_type": "code",
      "source": [
        "import numpy as np\n",
        "import matplotlib.pyplot as plt\n",
        "import tensorflow as tf\n",
        "\n",
        "def _to_numpy(x):\n",
        "    # helper: convert tensors/callables/arrays to 1-D numpy arrays\n",
        "    if callable(x):\n",
        "        # we will call it later with X, so return sentinel\n",
        "        return x\n",
        "    try:\n",
        "        # for tf.Tensor or np.array or python list\n",
        "        a = np.array(x)\n",
        "    except Exception:\n",
        "        return x\n",
        "    # flatten to 1-D when possible\n",
        "    if a.ndim > 1 and a.shape[1] == 1:\n",
        "        a = a.reshape(-1)\n",
        "    return a\n",
        "\n",
        "def plt_linear(*args, xmin=-6, xmax=6):\n",
        "    \"\"\"\n",
        "    Flexible plotting:\n",
        "    - Old style: plt_linear(w, b, xmin, xmax)  -> plots y = w*x + b\n",
        "    - Data style: plt_linear(X, Y, pred1, pred2=None, ...)\n",
        "        X, Y: 1D arrays (or convertible)\n",
        "        pred: either a 1D array of predictions (same length as X) OR a callable(model/function)\n",
        "              that accepts X and returns predicted y (array-like or tf.Tensor)\n",
        "    Optional keyword args:\n",
        "        xmin, xmax: used only for old-style linear plot\n",
        "    \"\"\"\n",
        "    if len(args) >= 4 and np.size(args[0]) == 1 and np.size(args[1]) == 1:\n",
        "        # treat as old signature: (w, b, xmin, xmax) or (w, b, ...)\n",
        "        w = float(np.ravel(args[0])[0])\n",
        "        b = float(np.ravel(args[1])[0])\n",
        "        x = np.linspace(xmin, xmax, 200)\n",
        "        y = w * x + b\n",
        "        plt.figure()\n",
        "        plt.plot(x, y, label=f'linear w={w:.3g}, b={b:.3g}')\n",
        "        plt.xlabel('x'); plt.ylabel('y'); plt.legend(); plt.grid(True)\n",
        "        plt.show()\n",
        "        return\n",
        "\n",
        "    # Otherwise treat as data + predictions\n",
        "    if len(args) < 3:\n",
        "        raise ValueError(\"Usage: plt_linear(X, Y, pred1, pred2=None, ...).\")\n",
        "\n",
        "    X = np.ravel(np.array(args[0]))\n",
        "    Y = np.ravel(np.array(args[1]))\n",
        "    if X.shape[0] != Y.shape[0]:\n",
        "        raise ValueError(\"X and Y must have the same length.\")\n",
        "\n",
        "    preds_raw = args[2:]\n",
        "    preds = []\n",
        "    labels = []\n",
        "    for i, p in enumerate(preds_raw, start=1):\n",
        "        if callable(p):\n",
        "            # call with X; try passing plain numpy array\n",
        "            try:\n",
        "                out = p(X)\n",
        "            except Exception:\n",
        "                # try reshaping X to (N,1) in case model expects that\n",
        "                out = p(X.reshape(-1, 1))\n",
        "            out = np.array(out)\n",
        "        else:\n",
        "            out = np.array(p)\n",
        "\n",
        "        # flatten if needed\n",
        "        if out.ndim > 1 and out.shape[1] == 1:\n",
        "            out = out.reshape(-1)\n",
        "        out = out.ravel()\n",
        "        if out.shape[0] != X.shape[0]:\n",
        "            # if predictions are a single scalar, broadcast; otherwise error\n",
        "            if out.size == 1:\n",
        "                out = np.full_like(X, out.item(), dtype=float)\n",
        "            else:\n",
        "                raise ValueError(f\"Prediction #{i} length {out.shape[0]} != X length {X.shape[0]}\")\n",
        "        preds.append(out)\n",
        "        # label detection: use model name if possible, else generic\n",
        "        name = getattr(p, \"name\", None) or getattr(p, \"__name__\", None) or f\"pred{i}\"\n",
        "        labels.append(str(name))\n",
        "\n",
        "    # sort by X for neat line plotting\n",
        "    idx = np.argsort(X)\n",
        "    Xs = X[idx]\n",
        "    Ys = Y[idx]\n",
        "\n",
        "    plt.figure()\n",
        "    plt.scatter(X, Y, s=40, alpha=0.6, label='data')\n",
        "    for pred_arr, lbl in zip(preds, labels):\n",
        "        plt.plot(Xs, pred_arr[idx], linewidth=2, label=f'pred: {lbl}')\n",
        "    plt.xlabel('X'); plt.ylabel('Y'); plt.legend(); plt.grid(True)\n",
        "    plt.show()\n"
      ],
      "metadata": {
        "id": "QqSHJST32KL7"
      },
      "execution_count": null,
      "outputs": []
    },
    {
      "cell_type": "code",
      "execution_count": null,
      "metadata": {
        "id": "q8Epc088zuxk",
        "outputId": "6a9fd21c-7fd7-44ee-f7c8-55d78898c78f",
        "colab": {
          "base_uri": "https://localhost:8080/",
          "height": 440
        }
      },
      "outputs": [
        {
          "output_type": "display_data",
          "data": {
            "text/plain": [
              "<Figure size 640x480 with 1 Axes>"
            ],
            "image/png": "[encoded data removed]"
          },
          "metadata": {}
        }
      ],
      "source": [
        "plt_linear(X_train, Y_train, prediction_tf, prediction_np)"
      ]
    },
    {
      "cell_type": "markdown",
      "metadata": {
        "id": "nP3FqJJWzuxk"
      },
      "source": [
        "## Neuron with Sigmoid activation\n",
        "The function implemented by a neuron/unit with a sigmoid activation is the same as in Course 1, logistic  regression:\n",
        "$$ f_{\\mathbf{w},b}(x^{(i)}) = g(\\mathbf{w}x^{(i)} + b) \\tag{2}$$\n",
        "where $$g(x) = sigmoid(x)$$\n",
        "\n",
        "Let's set $w$ and $b$ to some known values and check the model.\n"
      ]
    },
    {
      "cell_type": "markdown",
      "metadata": {
        "tags": [],
        "id": "I9CJC7Ajzuxk"
      },
      "source": [
        "### DataSet\n",
        "We'll use an example from Course 1, logistic regression."
      ]
    },
    {
      "cell_type": "code",
      "execution_count": null,
      "metadata": {
        "id": "ZiCiidQBzuxk"
      },
      "outputs": [],
      "source": [
        "X_train = np.array([0., 1, 2, 3, 4, 5], dtype=np.float32).reshape(-1,1)  # 2-D Matrix\n",
        "Y_train = np.array([0,  0, 0, 1, 1, 1], dtype=np.float32).reshape(-1,1)  # 2-D Matrix"
      ]
    },
    {
      "cell_type": "code",
      "execution_count": null,
      "metadata": {
        "id": "SsSQARLvzuxk",
        "outputId": "954768cd-c2ca-4cf0-d0c1-8b3579530af1",
        "colab": {
          "base_uri": "https://localhost:8080/"
        }
      },
      "outputs": [
        {
          "output_type": "stream",
          "name": "stdout",
          "text": [
            "[[False]\n",
            " [False]\n",
            " [False]\n",
            " [ True]\n",
            " [ True]\n",
            " [ True]]\n"
          ]
        },
        {
          "output_type": "execute_result",
          "data": {
            "text/plain": [
              "array([3., 4., 5.], dtype=float32)"
            ]
          },
          "metadata": {},
          "execution_count": 106
        }
      ],
      "source": [
        "pos = Y_train == 1\n",
        "neg = Y_train == 0\n",
        "print(pos)\n",
        "X_train[pos]"
      ]
    },
    {
      "cell_type": "code",
      "source": [
        "# redefine dlc as a simple dict of color names\n",
        "dlc = {\n",
        "    \"dlblue\": \"C0\",\n",
        "    \"dlorange\": \"C1\",\n",
        "    \"dlgreen\": \"C2\",\n",
        "    \"dlred\": \"C3\",\n",
        "    \"dlpurple\": \"C4\"\n",
        "}"
      ],
      "metadata": {
        "id": "4fCN2eek2fhs"
      },
      "execution_count": null,
      "outputs": []
    },
    {
      "cell_type": "code",
      "execution_count": null,
      "metadata": {
        "id": "R0oQXE6yzuxk",
        "outputId": "fa426f41-7ff2-4272-827d-7cb9f5fc0bb3",
        "colab": {
          "base_uri": "https://localhost:8080/",
          "height": 326
        }
      },
      "outputs": [
        {
          "output_type": "display_data",
          "data": {
            "text/plain": [
              "<Figure size 400x300 with 1 Axes>"
            ],
            "image/png": "[encoded data removed]"
          },
          "metadata": {}
        }
      ],
      "source": [
        "pos = Y_train == 1\n",
        "neg = Y_train == 0\n",
        "\n",
        "fig,ax = plt.subplots(1,1,figsize=(4,3))\n",
        "ax.scatter(X_train[pos], Y_train[pos], marker='x', s=80, c = 'red', label=\"y=1\")\n",
        "ax.scatter(X_train[neg], Y_train[neg], marker='o', s=100, label=\"y=0\", facecolors='none',\n",
        "              edgecolors=dlc[\"dlblue\"],lw=3)\n",
        "\n",
        "ax.set_ylim(-0.08,1.1)\n",
        "ax.set_ylabel('y', fontsize=12)\n",
        "ax.set_xlabel('x', fontsize=12)\n",
        "ax.set_title('one variable plot')\n",
        "ax.legend(fontsize=12)\n",
        "plt.show()"
      ]
    },
    {
      "cell_type": "markdown",
      "metadata": {
        "id": "Dd4K1-tWzuxl"
      },
      "source": [
        "### Logistic Neuron\n",
        "We can implement a 'logistic neuron' by adding a sigmoid activation. The function of the neuron is then described by (2) above.   \n",
        "This section will create a Tensorflow Model that contains our logistic layer to demonstrate an alternate method of creating models. Tensorflow is most often used to create multi-layer models. The [Sequential](https://keras.io/guides/sequential_model/) model is a convenient means of constructing these models."
      ]
    },
    {
      "cell_type": "code",
      "execution_count": null,
      "metadata": {
        "tags": [],
        "id": "5Sn8SE0Szuxl",
        "outputId": "40ae5b24-49ea-4099-989d-520023ff226f",
        "colab": {
          "base_uri": "https://localhost:8080/"
        }
      },
      "outputs": [
        {
          "output_type": "stream",
          "name": "stderr",
          "text": [
            "/usr/local/lib/python3.12/dist-packages/keras/src/layers/core/dense.py:93: UserWarning: Do not pass an `input_shape`/`input_dim` argument to a layer. When using Sequential models, prefer using an `Input(shape)` object as the first layer in the model instead.\n",
            "  super().__init__(activity_regularizer=activity_regularizer, **kwargs)\n"
          ]
        }
      ],
      "source": [
        "model = Sequential(\n",
        "    [\n",
        "        tf.keras.layers.Dense(1, input_dim=1,  activation = 'sigmoid', name='L1')\n",
        "    ]\n",
        ")"
      ]
    },
    {
      "cell_type": "markdown",
      "metadata": {
        "id": "3tyKJyJWzuxl"
      },
      "source": [
        "\n",
        "`model.summary()` shows the layers and number of parameters in the model. There is only one layer in this model and that layer has only one unit. The unit has two parameters, $w$ and $b$."
      ]
    },
    {
      "cell_type": "code",
      "execution_count": null,
      "metadata": {
        "id": "RgxvMyM5zuxl",
        "outputId": "70abe0ab-18b4-417e-fce3-790cea477eba",
        "colab": {
          "base_uri": "https://localhost:8080/",
          "height": 161
        }
      },
      "outputs": [
        {
          "output_type": "display_data",
          "data": {
            "text/plain": [
              "\u001b[1mModel: \"sequential_4\"\u001b[0m\n"
            ],
            "text/html": [
              "<pre style=\"white-space:pre;overflow-x:auto;line-height:normal;font-family:Menlo,'DejaVu Sans Mono',consolas,'Courier New',monospace\"><span style=\"font-weight: bold\">Model: \"sequential_4\"</span>\n",
              "</pre>\n"
            ]
          },
          "metadata": {}
        },
        {
          "output_type": "display_data",
          "data": {
            "text/plain": [
              "┏━━━━━━━━━━━━━━━━━━━━━━━━━━━━━━━━━┳━━━━━━━━━━━━━━━━━━━━━━━━┳━━━━━━━━━━━━━━━┓\n",
              "┃\u001b[1m \u001b[0m\u001b[1mLayer (type)                   \u001b[0m\u001b[1m \u001b[0m┃\u001b[1m \u001b[0m\u001b[1mOutput Shape          \u001b[0m\u001b[1m \u001b[0m┃\u001b[1m \u001b[0m\u001b[1m      Param #\u001b[0m\u001b[1m \u001b[0m┃\n",
              "┡━━━━━━━━━━━━━━━━━━━━━━━━━━━━━━━━━╇━━━━━━━━━━━━━━━━━━━━━━━━╇━━━━━━━━━━━━━━━┩\n",
              "│ L1 (\u001b[38;5;33mDense\u001b[0m)                      │ (\u001b[38;5;45mNone\u001b[0m, \u001b[38;5;34m1\u001b[0m)              │             \u001b[38;5;34m2\u001b[0m │\n",
              "└─────────────────────────────────┴────────────────────────┴───────────────┘\n"
            ],
            "text/html": [
              "<pre style=\"white-space:pre;overflow-x:auto;line-height:normal;font-family:Menlo,'DejaVu Sans Mono',consolas,'Courier New',monospace\">┏━━━━━━━━━━━━━━━━━━━━━━━━━━━━━━━━━┳━━━━━━━━━━━━━━━━━━━━━━━━┳━━━━━━━━━━━━━━━┓\n",
              "┃<span style=\"font-weight: bold\"> Layer (type)                    </span>┃<span style=\"font-weight: bold\"> Output Shape           </span>┃<span style=\"font-weight: bold\">       Param # </span>┃\n",
              "┡━━━━━━━━━━━━━━━━━━━━━━━━━━━━━━━━━╇━━━━━━━━━━━━━━━━━━━━━━━━╇━━━━━━━━━━━━━━━┩\n",
              "│ L1 (<span style=\"color: #0087ff; text-decoration-color: #0087ff\">Dense</span>)                      │ (<span style=\"color: #00d7ff; text-decoration-color: #00d7ff\">None</span>, <span style=\"color: #00af00; text-decoration-color: #00af00\">1</span>)              │             <span style=\"color: #00af00; text-decoration-color: #00af00\">2</span> │\n",
              "└─────────────────────────────────┴────────────────────────┴───────────────┘\n",
              "</pre>\n"
            ]
          },
          "metadata": {}
        },
        {
          "output_type": "display_data",
          "data": {
            "text/plain": [
              "\u001b[1m Total params: \u001b[0m\u001b[38;5;34m2\u001b[0m (8.00 B)\n"
            ],
            "text/html": [
              "<pre style=\"white-space:pre;overflow-x:auto;line-height:normal;font-family:Menlo,'DejaVu Sans Mono',consolas,'Courier New',monospace\"><span style=\"font-weight: bold\"> Total params: </span><span style=\"color: #00af00; text-decoration-color: #00af00\">2</span> (8.00 B)\n",
              "</pre>\n"
            ]
          },
          "metadata": {}
        },
        {
          "output_type": "display_data",
          "data": {
            "text/plain": [
              "\u001b[1m Trainable params: \u001b[0m\u001b[38;5;34m2\u001b[0m (8.00 B)\n"
            ],
            "text/html": [
              "<pre style=\"white-space:pre;overflow-x:auto;line-height:normal;font-family:Menlo,'DejaVu Sans Mono',consolas,'Courier New',monospace\"><span style=\"font-weight: bold\"> Trainable params: </span><span style=\"color: #00af00; text-decoration-color: #00af00\">2</span> (8.00 B)\n",
              "</pre>\n"
            ]
          },
          "metadata": {}
        },
        {
          "output_type": "display_data",
          "data": {
            "text/plain": [
              "\u001b[1m Non-trainable params: \u001b[0m\u001b[38;5;34m0\u001b[0m (0.00 B)\n"
            ],
            "text/html": [
              "<pre style=\"white-space:pre;overflow-x:auto;line-height:normal;font-family:Menlo,'DejaVu Sans Mono',consolas,'Courier New',monospace\"><span style=\"font-weight: bold\"> Non-trainable params: </span><span style=\"color: #00af00; text-decoration-color: #00af00\">0</span> (0.00 B)\n",
              "</pre>\n"
            ]
          },
          "metadata": {}
        }
      ],
      "source": [
        "model.summary()"
      ]
    },
    {
      "cell_type": "code",
      "execution_count": null,
      "metadata": {
        "id": "Mxb6ruHuzuxl",
        "outputId": "70f4950c-f982-4454-ec53-2c5d00efc6e3",
        "colab": {
          "base_uri": "https://localhost:8080/"
        }
      },
      "outputs": [
        {
          "output_type": "stream",
          "name": "stdout",
          "text": [
            "[[-0.8322252]] [0.]\n",
            "(1, 1) (1,)\n"
          ]
        }
      ],
      "source": [
        "logistic_layer = model.get_layer('L1')\n",
        "w,b = logistic_layer.get_weights()\n",
        "print(w,b)\n",
        "print(w.shape,b.shape)"
      ]
    },
    {
      "cell_type": "markdown",
      "metadata": {
        "id": "5slQ1YG7zuxl"
      },
      "source": [
        "Let's set the weight and bias to some known values."
      ]
    },
    {
      "cell_type": "code",
      "execution_count": null,
      "metadata": {
        "id": "ucEjo1aOzuxl",
        "outputId": "e4e9145f-8381-4c9f-82bf-b8e526db57b0",
        "colab": {
          "base_uri": "https://localhost:8080/"
        }
      },
      "outputs": [
        {
          "output_type": "stream",
          "name": "stdout",
          "text": [
            "[array([[2.]], dtype=float32), array([-4.5], dtype=float32)]\n"
          ]
        }
      ],
      "source": [
        "set_w = np.array([[2]])\n",
        "set_b = np.array([-4.5])\n",
        "# set_weights takes a list of numpy arrays\n",
        "logistic_layer.set_weights([set_w, set_b])\n",
        "print(logistic_layer.get_weights())"
      ]
    },
    {
      "cell_type": "code",
      "source": [
        "X_train[2].reshape(1,1)"
      ],
      "metadata": {
        "id": "HuFFa5IMAc1E",
        "outputId": "a3d00019-a9b5-41ea-96aa-5019e93f7e7f",
        "colab": {
          "base_uri": "https://localhost:8080/"
        }
      },
      "execution_count": null,
      "outputs": [
        {
          "output_type": "execute_result",
          "data": {
            "text/plain": [
              "array([[2.]], dtype=float32)"
            ]
          },
          "metadata": {},
          "execution_count": 119
        }
      ]
    },
    {
      "cell_type": "markdown",
      "metadata": {
        "id": "JL69dNnxzuxl"
      },
      "source": [
        "Let's compare equation (2) to the layer output."
      ]
    },
    {
      "cell_type": "code",
      "execution_count": null,
      "metadata": {
        "id": "_36OYhkSzuxl",
        "outputId": "1a3e83c7-bc6e-4ae7-b8b3-b5904dd48f03",
        "colab": {
          "base_uri": "https://localhost:8080/"
        }
      },
      "outputs": [
        {
          "output_type": "stream",
          "name": "stdout",
          "text": [
            "\u001b[1m1/1\u001b[0m \u001b[32m━━━━━━━━━━━━━━━━━━━━\u001b[0m\u001b[37m\u001b[0m \u001b[1m0s\u001b[0m 48ms/step\n",
            "[[0.99592984]]\n",
            "[[0.99592986]]\n"
          ]
        }
      ],
      "source": [
        "a1 = model.predict(X_train[5].reshape(1,1))\n",
        "print(a1)\n",
        "alog = sigmoidnp(np.dot(set_w,X_train[5].reshape(1,1)) + set_b)\n",
        "print(alog)"
      ]
    },
    {
      "cell_type": "markdown",
      "metadata": {
        "id": "e6XzRephzuxl"
      },
      "source": [
        "They produce the same values!\n",
        "Now, we can use our logistic layer and NumPy model to make predictions on our training data."
      ]
    },
    {
      "cell_type": "code",
      "source": [
        "import numpy as np\n",
        "import matplotlib.pyplot as plt\n",
        "\n",
        "def _make_mask(m, N, Y=None):\n",
        "    m_arr = np.asarray(m)\n",
        "    # boolean mask already\n",
        "    if m_arr.dtype == bool:\n",
        "        mask = m_arr.ravel()\n",
        "        if mask.size != N:\n",
        "            mask = mask.reshape(-1)[:N]  # try salvage\n",
        "    # integer indices (or list of indices)\n",
        "    elif np.issubdtype(m_arr.dtype, np.integer):\n",
        "        mask = np.zeros(N, dtype=bool)\n",
        "        mask[np.asarray(m_arr).ravel()] = True\n",
        "    # maybe column vector like shape (N,1)\n",
        "    elif m_arr.ndim > 1 and m_arr.size == N:\n",
        "        mask = m_arr.ravel().astype(bool)\n",
        "    # fallback: treat as logical comparison against Y if Y provided\n",
        "    elif Y is not None:\n",
        "        try:\n",
        "            mask = (np.ravel(Y) == np.ravel(m_arr).item())\n",
        "        except Exception:\n",
        "            mask = (np.ravel(Y) == 1)\n",
        "    else:\n",
        "        mask = np.zeros(N, dtype=bool)\n",
        "    return mask\n",
        "\n",
        "def plot_logistic_sanitized(X, Y, model=None, set_w=None, set_b=None, pos=None, neg=None):\n",
        "    # coerce X, Y to 1-D numeric arrays\n",
        "    X = np.asarray(X).squeeze()\n",
        "    if X.ndim > 1:\n",
        "        X = X.reshape(-1)\n",
        "    Y = np.asarray(Y).squeeze()\n",
        "    if Y.ndim > 1:\n",
        "        Y = Y.reshape(-1)\n",
        "\n",
        "    N = X.shape[0]\n",
        "    # default pos/neg from labels if not provided\n",
        "    if pos is None:\n",
        "        pos = (Y == 1)\n",
        "    if neg is None:\n",
        "        neg = (Y == 0)\n",
        "\n",
        "    pos_mask = _make_mask(pos, N, Y)\n",
        "    neg_mask = _make_mask(neg, N, Y)\n",
        "\n",
        "    # try recover colors from dlc (robust)\n",
        "    try:\n",
        "        dlblue = dlc[\"dlblue\"]\n",
        "    except Exception:\n",
        "        try:\n",
        "            dlblue = getattr(dlc, \"colors\", {}).get(\"dlblue\", \"C0\")\n",
        "        except Exception:\n",
        "            dlblue = \"C0\"\n",
        "\n",
        "    fig, ax = plt.subplots(1,1,figsize=(5,4))\n",
        "    ax.scatter(X[pos_mask], Y[pos_mask], marker='x', s=80, c='red', label='y=1')\n",
        "    ax.scatter(X[neg_mask], Y[neg_mask], marker='o', s=100, facecolors='none',\n",
        "               edgecolors=dlblue, lw=2, label='y=0')\n",
        "\n",
        "    # plot logistic curve from set_w/set_b if provided\n",
        "    if set_w is not None and set_b is not None:\n",
        "        try:\n",
        "            w = float(np.ravel(set_w)[0])\n",
        "            b = float(np.ravel(set_b)[0])\n",
        "            xx = np.linspace(np.min(X)-0.5, np.max(X)+0.5, 300)\n",
        "            yy = 1.0 / (1.0 + np.exp(-(w*xx + b)))\n",
        "            ax.plot(xx, yy, linewidth=2, label='logistic (set w,b)')\n",
        "        except Exception:\n",
        "            pass\n",
        "\n",
        "    # if model (callable) provided, try plotting its predicted curve\n",
        "    if model is not None:\n",
        "        try:\n",
        "            xx = np.linspace(np.min(X)-0.5, np.max(X)+0.5, 300)\n",
        "            # try calling model directly, then try predict, then try reshape\n",
        "            try:\n",
        "                preds = model(xx)\n",
        "            except Exception:\n",
        "                try:\n",
        "                    preds = model.predict(xx)\n",
        "                except Exception:\n",
        "                    preds = model(xx.reshape(-1,1))\n",
        "            preds = np.asarray(preds).ravel()\n",
        "            preds = np.clip(preds, 0.0, 1.0)\n",
        "            ax.plot(xx, preds, linestyle='--', linewidth=2, label='model curve')\n",
        "        except Exception:\n",
        "            pass\n",
        "\n",
        "    ax.set_ylim(-0.08, 1.08)\n",
        "    ax.set_xlabel('x'); ax.set_ylabel('P(y=1)'); ax.legend(); ax.grid(True)\n",
        "    plt.show()\n",
        "\n",
        "# call it with your variables\n",
        "plot_logistic_sanitized(X_train, Y_train, model=model, set_w=set_w, set_b=set_b, pos=pos, neg=neg)\n"
      ],
      "metadata": {
        "id": "PF7q0YsH29ik",
        "outputId": "07f6d300-35e9-4e6a-e3d3-87fb057674a5",
        "colab": {
          "base_uri": "https://localhost:8080/",
          "height": 378
        }
      },
      "execution_count": null,
      "outputs": [
        {
          "output_type": "display_data",
          "data": {
            "text/plain": [
              "<Figure size 500x400 with 1 Axes>"
            ],
            "image/png": "[encoded data removed]"
          },
          "metadata": {}
        }
      ]
    },
    {
      "cell_type": "code",
      "execution_count": null,
      "metadata": {
        "id": "u20AiOIzzuxl",
        "outputId": "a849b194-bb43-44e1-f26b-60634d514d10",
        "colab": {
          "base_uri": "https://localhost:8080/",
          "height": 378
        }
      },
      "outputs": [
        {
          "output_type": "display_data",
          "data": {
            "text/plain": [
              "<Figure size 500x400 with 1 Axes>"
            ],
            "image/png": "[encoded data removed]"
          },
          "metadata": {}
        }
      ],
      "source": [
        "plot_logistic_sanitized(X_train, Y_train, model, set_w, set_b, pos, neg)"
      ]
    },
    {
      "cell_type": "markdown",
      "metadata": {
        "id": "7QBcFW0Wzuxl"
      },
      "source": [
        "The shading above reflects the output of the sigmoid which varies from 0 to 1."
      ]
    },
    {
      "cell_type": "markdown",
      "metadata": {
        "id": "3f_jCWz1zuxq"
      },
      "source": [
        "# Congratulations!\n",
        "You built a very simple neural network and have explored the similarities of a neuron to the linear and logistic regression from Course 1."
      ]
    },
    {
      "cell_type": "code",
      "execution_count": null,
      "metadata": {
        "id": "kr_z3IHGzuxq"
      },
      "outputs": [],
      "source": []
    },
    {
      "cell_type": "code",
      "execution_count": null,
      "metadata": {
        "id": "r-7lZMuEzuxq"
      },
      "outputs": [],
      "source": []
    }
  ],
  "metadata": {
    "kernelspec": {
      "display_name": "Python 3",
      "language": "python",
      "name": "python3"
    },
    "language_info": {
      "codemirror_mode": {
        "name": "ipython",
        "version": 3
      },
      "file_extension": ".py",
      "mimetype": "text/x-python",
      "name": "python",
      "nbconvert_exporter": "python",
      "pygments_lexer": "ipython3",
      "version": "3.7.6"
    },
    "colab": {
      "provenance": [],
      "include_colab_link": true
    }
  },
  "nbformat": 4,
  "nbformat_minor": 0
}