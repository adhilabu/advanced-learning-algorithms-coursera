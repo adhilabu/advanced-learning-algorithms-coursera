{
  "cells": [
    {
      "cell_type": "markdown",
      "metadata": {
        "id": "view-in-github",
        "colab_type": "text"
      },
      "source": [
        "<a href=\"https://colab.research.google.com/github/adhilabu/advanced-learning-algorithms-coursera/blob/main/C2_W2_Derivatives.ipynb\" target=\"_parent\"><img src=\"https://colab.research.google.com/assets/colab-badge.svg\" alt=\"Open In Colab\"/></a>"
      ]
    },
    {
      "cell_type": "markdown",
      "id": "55ca2cda",
      "metadata": {
        "tags": [],
        "id": "55ca2cda"
      },
      "source": [
        "# Optional Lab - Derivatives\n",
        "This lab will give you a more intuitive understanding of derivatives. It will show you a simple way of calculating derivatives arithmetically. It will also introduce you to a handy Python library that allows you to calculate derivatives symbolically."
      ]
    },
    {
      "cell_type": "code",
      "source": [
        "!rm -rf ./*"
      ],
      "metadata": {
        "id": "PwQyZjHkzV2u"
      },
      "id": "PwQyZjHkzV2u",
      "execution_count": null,
      "outputs": []
    },
    {
      "cell_type": "code",
      "source": [
        "!pip install tensorflow\n",
        "!wget https://raw.githubusercontent.com/greyhatguy007/Machine-Learning-Specialization-Coursera/main/C2%20-%20Advanced%20Learning%20Algorithms/week2/optional-labs/lab_utils_common.py\n",
        "!wget https://raw.githubusercontent.com/greyhatguy007/Machine-Learning-Specialization-Coursera/main/C2%20-%20Advanced%20Learning%20Algorithms/week2/optional-labs/lab_utils_multiclass.py\n",
        "!wget https://raw.githubusercontent.com/greyhatguy007/Machine-Learning-Specialization-Coursera/main/C2%20-%20Advanced%20Learning%20Algorithms/week2/optional-labs/lab_utils_multiclass_TF.py\n",
        "!wget https://raw.githubusercontent.com/greyhatguy007/Machine-Learning-Specialization-Coursera/main/C2%20-%20Advanced%20Learning%20Algorithms/week2/optional-labs/lab_utils_relu.py\n",
        "!wget https://raw.githubusercontent.com/greyhatguy007/Machine-Learning-Specialization-Coursera/main/C2%20-%20Advanced%20Learning%20Algorithms/week2/optional-labs/lab_utils_softmax.py\n",
        "!wget https://raw.githubusercontent.com/greyhatguy007/Machine-Learning-Specialization-Coursera/main/C2%20-%20Advanced%20Learning%20Algorithms/week2/optional-labs/autils.py\n",
        "!wget https://raw.githubusercontent.com/greyhatguy007/Machine-Learning-Specialization-Coursera/main/C2%20-%20Advanced%20Learning%20Algorithms/week2/optional-labs/deeplearning.mplstyle"
      ],
      "metadata": {
        "id": "sjCHsjw9zUZQ",
        "outputId": "1bc408f2-f2c3-407a-addc-8fbb5f1e1483",
        "colab": {
          "base_uri": "https://localhost:8080/"
        }
      },
      "id": "sjCHsjw9zUZQ",
      "execution_count": null,
      "outputs": [
        {
          "output_type": "stream",
          "name": "stdout",
          "text": [
            "Requirement already satisfied: tensorflow in /usr/local/lib/python3.12/dist-packages (2.19.0)\n",
            "Requirement already satisfied: absl-py>=1.0.0 in /usr/local/lib/python3.12/dist-packages (from tensorflow) (1.4.0)\n",
            "Requirement already satisfied: astunparse>=1.6.0 in /usr/local/lib/python3.12/dist-packages (from tensorflow) (1.6.3)\n",
            "Requirement already satisfied: flatbuffers>=24.3.25 in /usr/local/lib/python3.12/dist-packages (from tensorflow) (25.2.10)\n",
            "Requirement already satisfied: gast!=0.5.0,!=0.5.1,!=0.5.2,>=0.2.1 in /usr/local/lib/python3.12/dist-packages (from tensorflow) (0.6.0)\n",
            "Requirement already satisfied: google-pasta>=0.1.1 in /usr/local/lib/python3.12/dist-packages (from tensorflow) (0.2.0)\n",
            "Requirement already satisfied: libclang>=13.0.0 in /usr/local/lib/python3.12/dist-packages (from tensorflow) (18.1.1)\n",
            "Requirement already satisfied: opt-einsum>=2.3.2 in /usr/local/lib/python3.12/dist-packages (from tensorflow) (3.4.0)\n",
            "Requirement already satisfied: packaging in /usr/local/lib/python3.12/dist-packages (from tensorflow) (25.0)\n",
            "Requirement already satisfied: protobuf!=4.21.0,!=4.21.1,!=4.21.2,!=4.21.3,!=4.21.4,!=4.21.5,<6.0.0dev,>=3.20.3 in /usr/local/lib/python3.12/dist-packages (from tensorflow) (5.29.5)\n",
            "Requirement already satisfied: requests<3,>=2.21.0 in /usr/local/lib/python3.12/dist-packages (from tensorflow) (2.32.4)\n",
            "Requirement already satisfied: setuptools in /usr/local/lib/python3.12/dist-packages (from tensorflow) (75.2.0)\n",
            "Requirement already satisfied: six>=1.12.0 in /usr/local/lib/python3.12/dist-packages (from tensorflow) (1.17.0)\n",
            "Requirement already satisfied: termcolor>=1.1.0 in /usr/local/lib/python3.12/dist-packages (from tensorflow) (3.1.0)\n",
            "Requirement already satisfied: typing-extensions>=3.6.6 in /usr/local/lib/python3.12/dist-packages (from tensorflow) (4.15.0)\n",
            "Requirement already satisfied: wrapt>=1.11.0 in /usr/local/lib/python3.12/dist-packages (from tensorflow) (1.17.3)\n",
            "Requirement already satisfied: grpcio<2.0,>=1.24.3 in /usr/local/lib/python3.12/dist-packages (from tensorflow) (1.74.0)\n",
            "Requirement already satisfied: tensorboard~=2.19.0 in /usr/local/lib/python3.12/dist-packages (from tensorflow) (2.19.0)\n",
            "Requirement already satisfied: keras>=3.5.0 in /usr/local/lib/python3.12/dist-packages (from tensorflow) (3.10.0)\n",
            "Requirement already satisfied: numpy<2.2.0,>=1.26.0 in /usr/local/lib/python3.12/dist-packages (from tensorflow) (2.0.2)\n",
            "Requirement already satisfied: h5py>=3.11.0 in /usr/local/lib/python3.12/dist-packages (from tensorflow) (3.14.0)\n",
            "Requirement already satisfied: ml-dtypes<1.0.0,>=0.5.1 in /usr/local/lib/python3.12/dist-packages (from tensorflow) (0.5.3)\n",
            "Requirement already satisfied: wheel<1.0,>=0.23.0 in /usr/local/lib/python3.12/dist-packages (from astunparse>=1.6.0->tensorflow) (0.45.1)\n",
            "Requirement already satisfied: rich in /usr/local/lib/python3.12/dist-packages (from keras>=3.5.0->tensorflow) (13.9.4)\n",
            "Requirement already satisfied: namex in /usr/local/lib/python3.12/dist-packages (from keras>=3.5.0->tensorflow) (0.1.0)\n",
            "Requirement already satisfied: optree in /usr/local/lib/python3.12/dist-packages (from keras>=3.5.0->tensorflow) (0.17.0)\n",
            "Requirement already satisfied: charset_normalizer<4,>=2 in /usr/local/lib/python3.12/dist-packages (from requests<3,>=2.21.0->tensorflow) (3.4.3)\n",
            "Requirement already satisfied: idna<4,>=2.5 in /usr/local/lib/python3.12/dist-packages (from requests<3,>=2.21.0->tensorflow) (3.10)\n",
            "Requirement already satisfied: urllib3<3,>=1.21.1 in /usr/local/lib/python3.12/dist-packages (from requests<3,>=2.21.0->tensorflow) (2.5.0)\n",
            "Requirement already satisfied: certifi>=2017.4.17 in /usr/local/lib/python3.12/dist-packages (from requests<3,>=2.21.0->tensorflow) (2025.8.3)\n",
            "Requirement already satisfied: markdown>=2.6.8 in /usr/local/lib/python3.12/dist-packages (from tensorboard~=2.19.0->tensorflow) (3.8.2)\n",
            "Requirement already satisfied: tensorboard-data-server<0.8.0,>=0.7.0 in /usr/local/lib/python3.12/dist-packages (from tensorboard~=2.19.0->tensorflow) (0.7.2)\n",
            "Requirement already satisfied: werkzeug>=1.0.1 in /usr/local/lib/python3.12/dist-packages (from tensorboard~=2.19.0->tensorflow) (3.1.3)\n",
            "Requirement already satisfied: MarkupSafe>=2.1.1 in /usr/local/lib/python3.12/dist-packages (from werkzeug>=1.0.1->tensorboard~=2.19.0->tensorflow) (3.0.2)\n",
            "Requirement already satisfied: markdown-it-py>=2.2.0 in /usr/local/lib/python3.12/dist-packages (from rich->keras>=3.5.0->tensorflow) (4.0.0)\n",
            "Requirement already satisfied: pygments<3.0.0,>=2.13.0 in /usr/local/lib/python3.12/dist-packages (from rich->keras>=3.5.0->tensorflow) (2.19.2)\n",
            "Requirement already satisfied: mdurl~=0.1 in /usr/local/lib/python3.12/dist-packages (from markdown-it-py>=2.2.0->rich->keras>=3.5.0->tensorflow) (0.1.2)\n",
            "--2025-09-05 12:15:46--  https://raw.githubusercontent.com/greyhatguy007/Machine-Learning-Specialization-Coursera/main/C2%20-%20Advanced%20Learning%20Algorithms/week2/optional-labs/lab_utils_common.py\n",
            "Resolving raw.githubusercontent.com (raw.githubusercontent.com)... 185.199.110.133, 185.199.109.133, 185.199.108.133, ...\n",
            "Connecting to raw.githubusercontent.com (raw.githubusercontent.com)|185.199.110.133|:443... connected.\n",
            "HTTP request sent, awaiting response... 200 OK\n",
            "Length: 13934 (14K) [text/plain]\n",
            "Saving to: ‘lab_utils_common.py’\n",
            "\n",
            "lab_utils_common.py 100%[===================>]  13.61K  --.-KB/s    in 0s      \n",
            "\n",
            "2025-09-05 12:15:47 (80.8 MB/s) - ‘lab_utils_common.py’ saved [13934/13934]\n",
            "\n",
            "--2025-09-05 12:15:47--  https://raw.githubusercontent.com/greyhatguy007/Machine-Learning-Specialization-Coursera/main/C2%20-%20Advanced%20Learning%20Algorithms/week2/optional-labs/lab_utils_multiclass.py\n",
            "Resolving raw.githubusercontent.com (raw.githubusercontent.com)... 185.199.108.133, 185.199.109.133, 185.199.110.133, ...\n",
            "Connecting to raw.githubusercontent.com (raw.githubusercontent.com)|185.199.108.133|:443... connected.\n",
            "HTTP request sent, awaiting response... 200 OK\n",
            "Length: 1609 (1.6K) [text/plain]\n",
            "Saving to: ‘lab_utils_multiclass.py’\n",
            "\n",
            "lab_utils_multiclas 100%[===================>]   1.57K  --.-KB/s    in 0s      \n",
            "\n",
            "2025-09-05 12:15:47 (26.6 MB/s) - ‘lab_utils_multiclass.py’ saved [1609/1609]\n",
            "\n",
            "--2025-09-05 12:15:47--  https://raw.githubusercontent.com/greyhatguy007/Machine-Learning-Specialization-Coursera/main/C2%20-%20Advanced%20Learning%20Algorithms/week2/optional-labs/lab_utils_multiclass_TF.py\n",
            "Resolving raw.githubusercontent.com (raw.githubusercontent.com)... 185.199.108.133, 185.199.109.133, 185.199.110.133, ...\n",
            "Connecting to raw.githubusercontent.com (raw.githubusercontent.com)|185.199.108.133|:443... connected.\n",
            "HTTP request sent, awaiting response... 200 OK\n",
            "Length: 6992 (6.8K) [text/plain]\n",
            "Saving to: ‘lab_utils_multiclass_TF.py’\n",
            "\n",
            "lab_utils_multiclas 100%[===================>]   6.83K  --.-KB/s    in 0s      \n",
            "\n",
            "2025-09-05 12:15:47 (53.8 MB/s) - ‘lab_utils_multiclass_TF.py’ saved [6992/6992]\n",
            "\n",
            "--2025-09-05 12:15:47--  https://raw.githubusercontent.com/greyhatguy007/Machine-Learning-Specialization-Coursera/main/C2%20-%20Advanced%20Learning%20Algorithms/week2/optional-labs/lab_utils_relu.py\n",
            "Resolving raw.githubusercontent.com (raw.githubusercontent.com)... 185.199.108.133, 185.199.109.133, 185.199.110.133, ...\n",
            "Connecting to raw.githubusercontent.com (raw.githubusercontent.com)|185.199.108.133|:443... connected.\n",
            "HTTP request sent, awaiting response... 200 OK\n",
            "Length: 3779 (3.7K) [text/plain]\n",
            "Saving to: ‘lab_utils_relu.py’\n",
            "\n",
            "lab_utils_relu.py   100%[===================>]   3.69K  --.-KB/s    in 0s      \n",
            "\n",
            "2025-09-05 12:15:47 (51.2 MB/s) - ‘lab_utils_relu.py’ saved [3779/3779]\n",
            "\n",
            "--2025-09-05 12:15:47--  https://raw.githubusercontent.com/greyhatguy007/Machine-Learning-Specialization-Coursera/main/C2%20-%20Advanced%20Learning%20Algorithms/week2/optional-labs/lab_utils_softmax.py\n",
            "Resolving raw.githubusercontent.com (raw.githubusercontent.com)... 185.199.108.133, 185.199.109.133, 185.199.110.133, ...\n",
            "Connecting to raw.githubusercontent.com (raw.githubusercontent.com)|185.199.108.133|:443... connected.\n",
            "HTTP request sent, awaiting response... 200 OK\n",
            "Length: 1887 (1.8K) [text/plain]\n",
            "Saving to: ‘lab_utils_softmax.py’\n",
            "\n",
            "lab_utils_softmax.p 100%[===================>]   1.84K  --.-KB/s    in 0s      \n",
            "\n",
            "2025-09-05 12:15:47 (28.5 MB/s) - ‘lab_utils_softmax.py’ saved [1887/1887]\n",
            "\n",
            "--2025-09-05 12:15:48--  https://raw.githubusercontent.com/greyhatguy007/Machine-Learning-Specialization-Coursera/main/C2%20-%20Advanced%20Learning%20Algorithms/week2/optional-labs/autils.py\n",
            "Resolving raw.githubusercontent.com (raw.githubusercontent.com)... 185.199.108.133, 185.199.109.133, 185.199.110.133, ...\n",
            "Connecting to raw.githubusercontent.com (raw.githubusercontent.com)|185.199.108.133|:443... connected.\n",
            "HTTP request sent, awaiting response... 200 OK\n",
            "Length: 6271 (6.1K) [text/plain]\n",
            "Saving to: ‘autils.py’\n",
            "\n",
            "autils.py           100%[===================>]   6.12K  --.-KB/s    in 0s      \n",
            "\n",
            "2025-09-05 12:15:48 (62.3 MB/s) - ‘autils.py’ saved [6271/6271]\n",
            "\n",
            "--2025-09-05 12:15:48--  https://raw.githubusercontent.com/greyhatguy007/Machine-Learning-Specialization-Coursera/main/C2%20-%20Advanced%20Learning%20Algorithms/week2/optional-labs/deeplearning.mplstyle\n",
            "Resolving raw.githubusercontent.com (raw.githubusercontent.com)... 185.199.108.133, 185.199.109.133, 185.199.110.133, ...\n",
            "Connecting to raw.githubusercontent.com (raw.githubusercontent.com)|185.199.108.133|:443... connected.\n",
            "HTTP request sent, awaiting response... 200 OK\n",
            "Length: 4889 (4.8K) [text/plain]\n",
            "Saving to: ‘deeplearning.mplstyle’\n",
            "\n",
            "deeplearning.mplsty 100%[===================>]   4.77K  --.-KB/s    in 0s      \n",
            "\n",
            "2025-09-05 12:15:48 (52.5 MB/s) - ‘deeplearning.mplstyle’ saved [4889/4889]\n",
            "\n"
          ]
        }
      ]
    },
    {
      "cell_type": "code",
      "execution_count": null,
      "id": "9201a0da",
      "metadata": {
        "id": "9201a0da"
      },
      "outputs": [],
      "source": [
        "from sympy import symbols, diff"
      ]
    },
    {
      "cell_type": "markdown",
      "id": "69ac228f",
      "metadata": {
        "id": "69ac228f"
      },
      "source": [
        "## Informal definition of derivatives"
      ]
    },
    {
      "cell_type": "markdown",
      "id": "b116fb76",
      "metadata": {
        "id": "b116fb76"
      },
      "source": [
        "The formal definition of derivatives can be a bit daunting with limits and values 'going to zero'. The idea is really much simpler.\n",
        "\n",
        "The derivative of a function describes how the output of a function changes when there is a small change in an input variable.\n",
        "\n",
        "Let's use the cost function $J(w)$ as an example. The cost $J$ is the output and $w$ is the input variable.  \n",
        "Let's give a 'small change' a name *epsilon* or $\\epsilon$. We use these Greek letters because it is traditional in mathematics to use *epsilon*($\\epsilon$) or *delta* ($\\Delta$) to represent a small value. You can think of it as representing 0.001 or some other small value.  \n",
        "\n",
        "$$\n",
        "\\begin{equation}\n",
        "\\text{if } w \\uparrow \\epsilon \\text{ causes }J(w) \\uparrow \\text{by }k \\times \\epsilon \\text{ then}  \\\\\n",
        "\\frac{\\partial J(w)}{\\partial w} = k \\tag{1}\n",
        "\\end{equation}\n",
        "$$\n",
        "\n",
        "This just says if you change the input to the function $J(w)$ by a little bit and the output changes by $k$ times that little bit, then the derivative of $J(w)$ is equal to $k$.\n",
        "\n",
        "Let's try this out.  Let's look at the derivative of the function $J(w) = w^2$ at the point $w=3$ and $\\epsilon = 0.001$"
      ]
    },
    {
      "cell_type": "code",
      "execution_count": null,
      "id": "3296f0d0",
      "metadata": {
        "id": "3296f0d0",
        "outputId": "5763c4b9-8bfc-49e9-c8ca-0f5429279f43",
        "colab": {
          "base_uri": "https://localhost:8080/"
        }
      },
      "outputs": [
        {
          "output_type": "stream",
          "name": "stdout",
          "text": [
            "J = 9, J_epsilon = 9.006001, dJ_dw ~= k = 6.001000 \n"
          ]
        }
      ],
      "source": [
        "J = (3)**2\n",
        "J_epsilon = (3 + 0.001)**2\n",
        "k = (J_epsilon - J)/0.001    # difference divided by epsilon\n",
        "print(f\"J = {J}, J_epsilon = {J_epsilon}, dJ_dw ~= k = {k:0.6f} \")"
      ]
    },
    {
      "cell_type": "markdown",
      "id": "b8e9c557",
      "metadata": {
        "id": "b8e9c557"
      },
      "source": [
        "We have increased the input value a little bit (0.001), causing the output to change from 9 to 9.006001, an increase of 6 times the input increase. Referencing (1) above, this says that $k=6$, so $\\frac{\\partial J(w)}{\\partial w} \\approx 6$. If you are familiar with calculus, you know, written symbolically,  $\\frac{\\partial J(w)}{\\partial w} = 2 w$. With $w=3$ this is 6. Our calculation above is not exactly 6 because to be exactly correct $\\epsilon$ would need to be [infinitesimally small](https://www.dictionary.com/browse/infinitesimally) or really, really small. That is why we use the symbols $\\approx$ or ~= rather than =. Let's see what happens if we make $\\epsilon$ smaller."
      ]
    },
    {
      "cell_type": "code",
      "execution_count": null,
      "id": "1f2c157c",
      "metadata": {
        "id": "1f2c157c",
        "outputId": "b93105d6-f465-47d4-f41c-7ebb87208bc1",
        "colab": {
          "base_uri": "https://localhost:8080/"
        }
      },
      "outputs": [
        {
          "output_type": "stream",
          "name": "stdout",
          "text": [
            "J = 9, J_epsilon = 9.000000006, dJ_dw ~= k = 6.000000496442226 \n"
          ]
        }
      ],
      "source": [
        "J = (3)**2\n",
        "J_epsilon = (3 + 0.000000001)**2\n",
        "k = (J_epsilon - J)/0.000000001\n",
        "print(f\"J = {J}, J_epsilon = {J_epsilon}, dJ_dw ~= k = {k} \")"
      ]
    },
    {
      "cell_type": "markdown",
      "id": "5348b172",
      "metadata": {
        "id": "5348b172"
      },
      "source": [
        "The value gets close to exactly 6 as we reduce the size of $\\epsilon$. Feel free to try reducing the value further."
      ]
    },
    {
      "cell_type": "markdown",
      "id": "29ba8ff4",
      "metadata": {
        "id": "29ba8ff4"
      },
      "source": [
        "## Finding symbolic derivatives\n",
        "In backprop it is useful to know the derivative of simple functions at any input value. Put another way, we would like to know the 'symbolic' derivative rather than the 'arithmetic' derivative. An example of a symbolic derivative is,  $\\frac{\\partial J(w)}{\\partial w} = 2 w$, the derivative of $J(w) = w^2$ above.  With the symbolic derivative you can find the value of the derivative at any input value $w$.  \n",
        "\n",
        "If you have taken a calculus course, you are familiar with the many [differentiation rules](https://en.wikipedia.org/wiki/Differentiation_rules#Power_laws,_polynomials,_quotients,_and_reciprocals) that mathematicians have developed to solve for a derivative given an expression. Well, it turns out this process has been automated with symbolic differentiation programs. An example of this in python is the [SymPy](https://www.sympy.org/en/index.html) library. Let's take a look at how to use this."
      ]
    },
    {
      "cell_type": "markdown",
      "id": "fe31ab09",
      "metadata": {
        "id": "fe31ab09"
      },
      "source": [
        "### $J = w^2$\n",
        "Define the python variables and their symbolic names."
      ]
    },
    {
      "cell_type": "code",
      "execution_count": null,
      "id": "59f44e5f",
      "metadata": {
        "id": "59f44e5f"
      },
      "outputs": [],
      "source": [
        "J, w = symbols('J, w')"
      ]
    },
    {
      "cell_type": "markdown",
      "id": "31dfc16a",
      "metadata": {
        "id": "31dfc16a"
      },
      "source": [
        "Define and print the expression. Note SymPy produces a [latex](https://en.wikibooks.org/wiki/LaTeX/Mathematics) string which generates a nicely readable equation."
      ]
    },
    {
      "cell_type": "code",
      "execution_count": null,
      "id": "0cf67456",
      "metadata": {
        "id": "0cf67456",
        "outputId": "35d04495-12ac-4b13-f7af-dbcec81d85b9",
        "colab": {
          "base_uri": "https://localhost:8080/",
          "height": 39
        }
      },
      "outputs": [
        {
          "output_type": "execute_result",
          "data": {
            "text/plain": [
              "w**2"
            ],
            "text/latex": "$\\displaystyle w^{2}$"
          },
          "metadata": {},
          "execution_count": 11
        }
      ],
      "source": [
        "J=w**2\n",
        "J"
      ]
    },
    {
      "cell_type": "markdown",
      "id": "6793c270",
      "metadata": {
        "id": "6793c270"
      },
      "source": [
        "Use SymPy's `diff` to differentiate the expression for $J$ with respect to $w$. Note the result matches our earlier example."
      ]
    },
    {
      "cell_type": "code",
      "execution_count": null,
      "id": "64ae7fd1",
      "metadata": {
        "id": "64ae7fd1",
        "outputId": "fed77164-7804-43ba-8c09-fb95b097e9ba",
        "colab": {
          "base_uri": "https://localhost:8080/",
          "height": 39
        }
      },
      "outputs": [
        {
          "output_type": "execute_result",
          "data": {
            "text/plain": [
              "2*w"
            ],
            "text/latex": "$\\displaystyle 2 w$"
          },
          "metadata": {},
          "execution_count": 12
        }
      ],
      "source": [
        "dJ_dw = diff(J,w)\n",
        "dJ_dw"
      ]
    },
    {
      "cell_type": "markdown",
      "id": "264eb419",
      "metadata": {
        "id": "264eb419"
      },
      "source": [
        "Evaluate the derivative at a few points by 'substituting' numeric values for the symbolic values. In the first example, $w$ is replaced by $2$."
      ]
    },
    {
      "cell_type": "code",
      "execution_count": null,
      "id": "8d03247c",
      "metadata": {
        "id": "8d03247c",
        "outputId": "b4611298-04a9-4be1-9a33-964d455978bb",
        "colab": {
          "base_uri": "https://localhost:8080/",
          "height": 37
        }
      },
      "outputs": [
        {
          "output_type": "execute_result",
          "data": {
            "text/plain": [
              "4"
            ],
            "text/latex": "$\\displaystyle 4$"
          },
          "metadata": {},
          "execution_count": 13
        }
      ],
      "source": [
        "dJ_dw.subs([(w,2)])    # derivative at the point w = 2"
      ]
    },
    {
      "cell_type": "code",
      "execution_count": null,
      "id": "ff4238e7",
      "metadata": {
        "scrolled": true,
        "id": "ff4238e7",
        "outputId": "404920d8-31d0-426f-dd40-a4366f59f0a1",
        "colab": {
          "base_uri": "https://localhost:8080/",
          "height": 37
        }
      },
      "outputs": [
        {
          "output_type": "execute_result",
          "data": {
            "text/plain": [
              "6"
            ],
            "text/latex": "$\\displaystyle 6$"
          },
          "metadata": {},
          "execution_count": 14
        }
      ],
      "source": [
        "dJ_dw.subs([(w,3)])    # derivative at the point w = 3"
      ]
    },
    {
      "cell_type": "code",
      "execution_count": null,
      "id": "8ae2e2df",
      "metadata": {
        "id": "8ae2e2df",
        "outputId": "b6877eb7-5d3c-46f5-89ca-9c98562ec515",
        "colab": {
          "base_uri": "https://localhost:8080/",
          "height": 37
        }
      },
      "outputs": [
        {
          "output_type": "execute_result",
          "data": {
            "text/plain": [
              "-6"
            ],
            "text/latex": "$\\displaystyle -6$"
          },
          "metadata": {},
          "execution_count": 15
        }
      ],
      "source": [
        "dJ_dw.subs([(w,-3)])    # derivative at the point w = -3"
      ]
    },
    {
      "cell_type": "markdown",
      "id": "737ddb5e",
      "metadata": {
        "id": "737ddb5e"
      },
      "source": [
        "## $J = 2w$"
      ]
    },
    {
      "cell_type": "code",
      "execution_count": null,
      "id": "4906fb6d",
      "metadata": {
        "tags": [],
        "id": "4906fb6d"
      },
      "outputs": [],
      "source": [
        "w, J = symbols('w, J')"
      ]
    },
    {
      "cell_type": "code",
      "execution_count": null,
      "id": "4be899dd",
      "metadata": {
        "id": "4be899dd",
        "outputId": "19bf7db5-7bed-4018-ed81-e90203505e04",
        "colab": {
          "base_uri": "https://localhost:8080/",
          "height": 39
        }
      },
      "outputs": [
        {
          "output_type": "execute_result",
          "data": {
            "text/plain": [
              "2*w"
            ],
            "text/latex": "$\\displaystyle 2 w$"
          },
          "metadata": {},
          "execution_count": 17
        }
      ],
      "source": [
        "J = 2 * w\n",
        "J"
      ]
    },
    {
      "cell_type": "code",
      "execution_count": null,
      "id": "df81d60f",
      "metadata": {
        "tags": [],
        "id": "df81d60f",
        "outputId": "508ed967-0345-43f2-e1fe-ebe1ccc1898d",
        "colab": {
          "base_uri": "https://localhost:8080/",
          "height": 37
        }
      },
      "outputs": [
        {
          "output_type": "execute_result",
          "data": {
            "text/plain": [
              "2"
            ],
            "text/latex": "$\\displaystyle 2$"
          },
          "metadata": {},
          "execution_count": 18
        }
      ],
      "source": [
        "dJ_dw = diff(J,w)\n",
        "dJ_dw"
      ]
    },
    {
      "cell_type": "code",
      "execution_count": null,
      "id": "1c070c62",
      "metadata": {
        "id": "1c070c62",
        "outputId": "4acbf8d9-f0c9-4c9b-e2ec-883e5cac5acf",
        "colab": {
          "base_uri": "https://localhost:8080/",
          "height": 37
        }
      },
      "outputs": [
        {
          "output_type": "execute_result",
          "data": {
            "text/plain": [
              "2"
            ],
            "text/latex": "$\\displaystyle 2$"
          },
          "metadata": {},
          "execution_count": 19
        }
      ],
      "source": [
        "dJ_dw.subs([(w,-3)])    # derivative at the point w = -3"
      ]
    },
    {
      "cell_type": "markdown",
      "id": "a7893ca0",
      "metadata": {
        "id": "a7893ca0"
      },
      "source": [
        "Compare this with the arithmetic calculation"
      ]
    },
    {
      "cell_type": "code",
      "execution_count": null,
      "id": "920dcbff",
      "metadata": {
        "id": "920dcbff",
        "outputId": "469c1e28-1f3d-4bf8-f5ae-a6d6507ff590",
        "colab": {
          "base_uri": "https://localhost:8080/"
        }
      },
      "outputs": [
        {
          "output_type": "stream",
          "name": "stdout",
          "text": [
            "J = 6, J_epsilon = 6.002, dJ_dw ~= k = 1.9999999999997797 \n"
          ]
        }
      ],
      "source": [
        "J = 2*3\n",
        "J_epsilon = 2*(3 + 0.001)\n",
        "k = (J_epsilon - J)/0.001\n",
        "print(f\"J = {J}, J_epsilon = {J_epsilon}, dJ_dw ~= k = {k} \")"
      ]
    },
    {
      "cell_type": "markdown",
      "id": "510cd1c0",
      "metadata": {
        "id": "510cd1c0"
      },
      "source": [
        "For the function $J=2w$, it is easy to see that any change in $w$ will result in 2 times that amount of change in the output $J$, regardless of the starting value of $w$. Our NumPy and arithmetic results confirm this."
      ]
    },
    {
      "cell_type": "markdown",
      "id": "e2013c16",
      "metadata": {
        "id": "e2013c16"
      },
      "source": [
        "## $J = w^3$"
      ]
    },
    {
      "cell_type": "code",
      "execution_count": null,
      "id": "775604c1",
      "metadata": {
        "id": "775604c1"
      },
      "outputs": [],
      "source": [
        "J, w = symbols('J, w')"
      ]
    },
    {
      "cell_type": "code",
      "execution_count": null,
      "id": "08e5961f",
      "metadata": {
        "id": "08e5961f",
        "outputId": "d12bccaa-11a4-4ce6-9104-5acc7b4d2d9c",
        "colab": {
          "base_uri": "https://localhost:8080/",
          "height": 39
        }
      },
      "outputs": [
        {
          "output_type": "execute_result",
          "data": {
            "text/plain": [
              "w**3"
            ],
            "text/latex": "$\\displaystyle w^{3}$"
          },
          "metadata": {},
          "execution_count": 23
        }
      ],
      "source": [
        "J=w**3\n",
        "J"
      ]
    },
    {
      "cell_type": "code",
      "execution_count": null,
      "id": "304c645d",
      "metadata": {
        "id": "304c645d",
        "outputId": "8651eb54-40a2-4118-cb25-710c0e1ef7e2",
        "colab": {
          "base_uri": "https://localhost:8080/",
          "height": 39
        }
      },
      "outputs": [
        {
          "output_type": "execute_result",
          "data": {
            "text/plain": [
              "3*w**2"
            ],
            "text/latex": "$\\displaystyle 3 w^{2}$"
          },
          "metadata": {},
          "execution_count": 24
        }
      ],
      "source": [
        "dJ_dw = diff(J,w)\n",
        "dJ_dw"
      ]
    },
    {
      "cell_type": "code",
      "execution_count": null,
      "id": "9e59dbdd",
      "metadata": {
        "id": "9e59dbdd",
        "outputId": "a352362b-8ce9-456c-a378-675ab97c2729",
        "colab": {
          "base_uri": "https://localhost:8080/",
          "height": 37
        }
      },
      "outputs": [
        {
          "output_type": "execute_result",
          "data": {
            "text/plain": [
              "12"
            ],
            "text/latex": "$\\displaystyle 12$"
          },
          "metadata": {},
          "execution_count": 25
        }
      ],
      "source": [
        "dJ_dw.subs([(w,2)])   # derivative at the point w=2"
      ]
    },
    {
      "cell_type": "markdown",
      "id": "ecae9e21",
      "metadata": {
        "id": "ecae9e21"
      },
      "source": [
        "Compare this with the arithmetic calculation"
      ]
    },
    {
      "cell_type": "code",
      "execution_count": null,
      "id": "19b12f78",
      "metadata": {
        "id": "19b12f78",
        "outputId": "14924ad3-1c58-443c-e2d0-ab48a2db0491",
        "colab": {
          "base_uri": "https://localhost:8080/"
        }
      },
      "outputs": [
        {
          "output_type": "stream",
          "name": "stdout",
          "text": [
            "J = 8, J_epsilon = 8.012006000999998, dJ_dw ~= k = 12.006000999997823 \n"
          ]
        }
      ],
      "source": [
        "J = (2)**3\n",
        "J_epsilon = (2+0.001)**3\n",
        "k = (J_epsilon - J)/0.001\n",
        "print(f\"J = {J}, J_epsilon = {J_epsilon}, dJ_dw ~= k = {k} \")"
      ]
    },
    {
      "cell_type": "markdown",
      "id": "07c5d254",
      "metadata": {
        "id": "07c5d254"
      },
      "source": [
        "## $J = \\frac{1}{w}$"
      ]
    },
    {
      "cell_type": "code",
      "execution_count": null,
      "id": "fb286c54",
      "metadata": {
        "id": "fb286c54"
      },
      "outputs": [],
      "source": [
        "J, w = symbols('J, w')"
      ]
    },
    {
      "cell_type": "code",
      "execution_count": null,
      "id": "f153494c",
      "metadata": {
        "id": "f153494c",
        "outputId": "893889b4-0b15-4079-d16d-c4c31f670161",
        "colab": {
          "base_uri": "https://localhost:8080/",
          "height": 51
        }
      },
      "outputs": [
        {
          "output_type": "execute_result",
          "data": {
            "text/plain": [
              "1/w"
            ],
            "text/latex": "$\\displaystyle \\frac{1}{w}$"
          },
          "metadata": {},
          "execution_count": 28
        }
      ],
      "source": [
        "J= 1/w\n",
        "J"
      ]
    },
    {
      "cell_type": "code",
      "execution_count": null,
      "id": "e9029dd2",
      "metadata": {
        "id": "e9029dd2",
        "outputId": "2d5ee811-41ff-4f37-bbd1-90f78167f7b2",
        "colab": {
          "base_uri": "https://localhost:8080/",
          "height": 51
        }
      },
      "outputs": [
        {
          "output_type": "execute_result",
          "data": {
            "text/plain": [
              "-1/w**2"
            ],
            "text/latex": "$\\displaystyle - \\frac{1}{w^{2}}$"
          },
          "metadata": {},
          "execution_count": 29
        }
      ],
      "source": [
        "dJ_dw = diff(J,w)\n",
        "dJ_dw"
      ]
    },
    {
      "cell_type": "code",
      "execution_count": null,
      "id": "2fd3cfa4",
      "metadata": {
        "id": "2fd3cfa4",
        "outputId": "2370a4d3-5bf5-48a7-d67d-5a6b260b7017",
        "colab": {
          "base_uri": "https://localhost:8080/",
          "height": 51
        }
      },
      "outputs": [
        {
          "output_type": "execute_result",
          "data": {
            "text/plain": [
              "-1/4"
            ],
            "text/latex": "$\\displaystyle - \\frac{1}{4}$"
          },
          "metadata": {},
          "execution_count": 30
        }
      ],
      "source": [
        "dJ_dw.subs([(w,2)])"
      ]
    },
    {
      "cell_type": "markdown",
      "id": "487e67c5",
      "metadata": {
        "id": "487e67c5"
      },
      "source": [
        "Compare this with the arithmetic calculation"
      ]
    },
    {
      "cell_type": "code",
      "execution_count": null,
      "id": "9f251b52",
      "metadata": {
        "id": "9f251b52",
        "outputId": "1c652007-9167-4d34-f95d-0a90056488cc",
        "colab": {
          "base_uri": "https://localhost:8080/"
        }
      },
      "outputs": [
        {
          "output_type": "stream",
          "name": "stdout",
          "text": [
            "J = 0.5, J_epsilon = 0.49975012493753124, dJ_dw ~= k = -0.2498750624687629 \n"
          ]
        }
      ],
      "source": [
        "J = 1/2\n",
        "J_epsilon = 1/(2+0.001)\n",
        "k = (J_epsilon - J)/0.001\n",
        "print(f\"J = {J}, J_epsilon = {J_epsilon}, dJ_dw ~= k = {k} \")"
      ]
    },
    {
      "cell_type": "markdown",
      "id": "4b06bbe8",
      "metadata": {
        "id": "4b06bbe8"
      },
      "source": [
        "## $J = \\frac{1}{w^2}$"
      ]
    },
    {
      "cell_type": "code",
      "execution_count": null,
      "id": "9b7e3772",
      "metadata": {
        "id": "9b7e3772"
      },
      "outputs": [],
      "source": [
        "J, w = symbols('J, w')"
      ]
    },
    {
      "cell_type": "markdown",
      "id": "dc112bce",
      "metadata": {
        "id": "dc112bce"
      },
      "source": [
        "If you have time, try to repeat the above steps on the function  $J = \\frac{1}{w^2}$ and evaluate at w=4"
      ]
    },
    {
      "cell_type": "code",
      "execution_count": null,
      "id": "71e89c66",
      "metadata": {
        "id": "71e89c66"
      },
      "outputs": [],
      "source": [
        "J, w = symbols('J, w')"
      ]
    },
    {
      "cell_type": "code",
      "execution_count": null,
      "id": "18764f0f",
      "metadata": {
        "id": "18764f0f",
        "outputId": "f006f343-a49a-4b71-9436-d0e42b19017b",
        "colab": {
          "base_uri": "https://localhost:8080/",
          "height": 51
        }
      },
      "outputs": [
        {
          "output_type": "execute_result",
          "data": {
            "text/plain": [
              "w**(-2)"
            ],
            "text/latex": "$\\displaystyle \\frac{1}{w^{2}}$"
          },
          "metadata": {},
          "execution_count": 34
        }
      ],
      "source": [
        "J= 1/(w**2)\n",
        "J"
      ]
    },
    {
      "cell_type": "code",
      "execution_count": null,
      "id": "1dc0dedf",
      "metadata": {
        "id": "1dc0dedf",
        "outputId": "57ac5ee8-0379-45dd-e5bf-7a0f2c2a250b",
        "colab": {
          "base_uri": "https://localhost:8080/",
          "height": 51
        }
      },
      "outputs": [
        {
          "output_type": "execute_result",
          "data": {
            "text/plain": [
              "-2/w**3"
            ],
            "text/latex": "$\\displaystyle - \\frac{2}{w^{3}}$"
          },
          "metadata": {},
          "execution_count": 35
        }
      ],
      "source": [
        "dJ_dw = diff(J,w)\n",
        "dJ_dw"
      ]
    },
    {
      "cell_type": "code",
      "execution_count": null,
      "id": "578cbd71",
      "metadata": {
        "id": "578cbd71",
        "outputId": "39ed2cee-43d6-4cf9-f51b-fb0c6f845861",
        "colab": {
          "base_uri": "https://localhost:8080/",
          "height": 51
        }
      },
      "outputs": [
        {
          "output_type": "execute_result",
          "data": {
            "text/plain": [
              "-1/32"
            ],
            "text/latex": "$\\displaystyle - \\frac{1}{32}$"
          },
          "metadata": {},
          "execution_count": 36
        }
      ],
      "source": [
        "dJ_dw.subs([(w,4)])"
      ]
    },
    {
      "cell_type": "markdown",
      "id": "2cf1879d",
      "metadata": {
        "id": "2cf1879d"
      },
      "source": [
        "Compare this with the arithmetic calculation"
      ]
    },
    {
      "cell_type": "code",
      "execution_count": null,
      "id": "7b68f746",
      "metadata": {
        "id": "7b68f746",
        "outputId": "70732cac-6310-42b2-d6ff-013597056892",
        "colab": {
          "base_uri": "https://localhost:8080/"
        }
      },
      "outputs": [
        {
          "output_type": "stream",
          "name": "stdout",
          "text": [
            "J = 0.0625, J_epsilon = 0.06246876171484496, dJ_dw ~= k = -0.031238285155041345 \n"
          ]
        }
      ],
      "source": [
        "J = 1/4**2\n",
        "J_epsilon = 1/(4+0.001)**2\n",
        "k = (J_epsilon - J)/0.001\n",
        "print(f\"J = {J}, J_epsilon = {J_epsilon}, dJ_dw ~= k = {k} \")"
      ]
    },
    {
      "cell_type": "markdown",
      "id": "ed0df8ec",
      "metadata": {
        "id": "ed0df8ec"
      },
      "source": [
        "<details>\n",
        "  <summary><font size=\"3\" color=\"darkgreen\"><b>Click for hints</b></font></summary>\n",
        "    \n",
        "```python\n",
        "J= 1/w**2\n",
        "dJ_dw = diff(J,w)\n",
        "dJ_dw.subs([(w,4)])\n",
        "```\n",
        "  \n",
        "\n",
        "</details>\n",
        "\n",
        "    \n"
      ]
    },
    {
      "cell_type": "markdown",
      "id": "a7e9b47d",
      "metadata": {
        "id": "a7e9b47d"
      },
      "source": [
        "## Congratulations!\n",
        "If you have run through the above examples, you understand a derivative describes the change in the output of a function that is a result of a small change in an input to that function. You also can use *SymPy* in python to find the symbolic derivative of functions."
      ]
    }
  ],
  "metadata": {
    "kernelspec": {
      "display_name": "Python 3 (ipykernel)",
      "language": "python",
      "name": "python3"
    },
    "language_info": {
      "codemirror_mode": {
        "name": "ipython",
        "version": 3
      },
      "file_extension": ".py",
      "mimetype": "text/x-python",
      "name": "python",
      "nbconvert_exporter": "python",
      "pygments_lexer": "ipython3",
      "version": "3.10.10"
    },
    "colab": {
      "provenance": [],
      "include_colab_link": true
    }
  },
  "nbformat": 4,
  "nbformat_minor": 5
}